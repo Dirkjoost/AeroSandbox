{
 "cells": [
  {
   "cell_type": "markdown",
   "source": [
    "# Vortex Lattice Method"
   ],
   "metadata": {
    "collapsed": false
   }
  },
  {
   "cell_type": "markdown",
   "source": [
    "## Point Analysis"
   ],
   "metadata": {
    "collapsed": false
   }
  },
  {
   "cell_type": "code",
   "execution_count": 1,
   "outputs": [],
   "source": [
    "import aerosandbox as asb\n",
    "import aerosandbox.numpy as np\n",
    "\n",
    "wing_airfoil = asb.Airfoil(\"sd7037\")\n",
    "tail_airfoil = asb.Airfoil(\"naca0010\")\n",
    "\n",
    "### Define the 3D geometry you want to analyze/optimize.\n",
    "# Here, all distances are in meters and all angles are in degrees.\n",
    "airplane = asb.Airplane(\n",
    "    name=\"Peter's Glider\",\n",
    "    xyz_ref=[0, 0, 0],  # CG location\n",
    "    wings=[\n",
    "        asb.Wing(\n",
    "            name=\"Main Wing\",\n",
    "            symmetric=True,  # Should this wing be mirrored across the XZ plane?\n",
    "            xsecs=[  # The wing's cross (\"X\") sections\n",
    "                asb.WingXSec(  # Root\n",
    "                    xyz_le=[0, 0, 0],  # Coordinates of the XSec's leading edge, relative to the wing's leading edge.\n",
    "                    chord=0.18,\n",
    "                    twist=2,  # degrees\n",
    "                    airfoil=wing_airfoil,  # Airfoils are blended between a given XSec and the next one.\n",
    "                ),\n",
    "                asb.WingXSec(  # Mid\n",
    "                    xyz_le=[0.01, 0.5, 0],\n",
    "                    chord=0.16,\n",
    "                    twist=0,\n",
    "                    airfoil=wing_airfoil,\n",
    "                ),\n",
    "                asb.WingXSec(  # Tip\n",
    "                    xyz_le=[0.08, 1, 0.1],\n",
    "                    chord=0.08,\n",
    "                    twist=-2,\n",
    "                    airfoil=wing_airfoil,\n",
    "                ),\n",
    "            ]\n",
    "        ),\n",
    "        asb.Wing(\n",
    "            name=\"Horizontal Stabilizer\",\n",
    "            symmetric=True,\n",
    "            xsecs=[\n",
    "                asb.WingXSec(  # root\n",
    "                    xyz_le=[0, 0, 0],\n",
    "                    chord=0.1,\n",
    "                    twist=-10,\n",
    "                    airfoil=tail_airfoil,\n",
    "                ),\n",
    "                asb.WingXSec(  # tip\n",
    "                    xyz_le=[0.02, 0.17, 0],\n",
    "                    chord=0.08,\n",
    "                    twist=-10,\n",
    "                    airfoil=tail_airfoil\n",
    "                )\n",
    "            ]\n",
    "        ).translate([0.6, 0, 0.06]),\n",
    "        asb.Wing(\n",
    "            name=\"Vertical Stabilizer\",\n",
    "            symmetric=False,\n",
    "            xsecs=[\n",
    "                asb.WingXSec(\n",
    "                    xyz_le=[0, 0, 0],\n",
    "                    chord=0.1,\n",
    "                    twist=0,\n",
    "                    airfoil=tail_airfoil,\n",
    "                ),\n",
    "                asb.WingXSec(\n",
    "                    xyz_le=[0.04, 0, 0.15],\n",
    "                    chord=0.06,\n",
    "                    twist=0,\n",
    "                    airfoil=tail_airfoil\n",
    "                )\n",
    "            ]\n",
    "        ).translate([0.6, 0, 0.07])\n",
    "    ],\n",
    "    fuselages=[\n",
    "        asb.Fuselage(\n",
    "            name=\"Fuselage\",\n",
    "            xsecs=[\n",
    "                asb.FuselageXSec(\n",
    "                    xyz_c=[0.8 * xi - 0.1, 0, 0.1 * xi - 0.03],\n",
    "                    radius=0.6 * asb.Airfoil(\"dae51\").local_thickness(x_over_c=xi)\n",
    "                )\n",
    "                for xi in np.cosspace(0, 1, 30)\n",
    "            ]\n",
    "        )\n",
    "    ]\n",
    ")"
   ],
   "metadata": {
    "collapsed": false,
    "ExecuteTime": {
     "start_time": "2023-04-22T00:06:02.079747Z",
     "end_time": "2023-04-22T00:06:02.569270Z"
    }
   }
  },
  {
   "cell_type": "code",
   "execution_count": 2,
   "outputs": [],
   "source": [
    "vlm = asb.VortexLatticeMethod(\n",
    "    airplane=airplane,\n",
    "    op_point=asb.OperatingPoint(\n",
    "        velocity=25,  # m/s\n",
    "        alpha=5,  # degree\n",
    "    )\n",
    ")"
   ],
   "metadata": {
    "collapsed": false,
    "ExecuteTime": {
     "start_time": "2023-04-22T00:06:07.643649Z",
     "end_time": "2023-04-22T00:06:07.651891Z"
    }
   }
  },
  {
   "cell_type": "markdown",
   "source": [
    "You can change the paneling by passing in various parameters to the `VortexLatticeMethod` constructor, or by using `analysis_specific_options` for various components (`Wing`, `WingXSec`, etc.) These options are viewable in the source code."
   ],
   "metadata": {
    "collapsed": false
   }
  },
  {
   "cell_type": "code",
   "execution_count": null,
   "outputs": [],
   "source": [
    "aero = vlm.run()  # Returns a dictionary\n",
    "for k, v in aero.items():\n",
    "    print(f\"{k.rjust(4)} : {v}\")"
   ],
   "metadata": {
    "collapsed": false,
    "ExecuteTime": {
     "start_time": "2023-04-02T17:48:39.787973Z",
     "end_time": "2023-04-02T17:48:40.168484Z"
    }
   }
  },
  {
   "cell_type": "code",
   "execution_count": null,
   "outputs": [],
   "source": [
    "# NBVAL_SKIP\n",
    "\n",
    "vlm.draw(show_kwargs=dict(jupyter_backend=\"static\"))"
   ],
   "metadata": {
    "collapsed": false
   }
  },
  {
   "cell_type": "markdown",
   "source": [
    "## Operating Point Optimization"
   ],
   "metadata": {
    "collapsed": false
   }
  },
  {
   "cell_type": "code",
   "execution_count": null,
   "outputs": [],
   "source": [
    "# NBVAL_SKIP\n",
    "# (This tells our unit tests to skip this cell, as it's a bit wasteful to run on every commit.)\n",
    "\n",
    "opti = asb.Opti()\n",
    "\n",
    "alpha = opti.variable(init_guess=5)\n",
    "\n",
    "vlm = asb.VortexLatticeMethod(\n",
    "    airplane=airplane,\n",
    "    op_point=asb.OperatingPoint(\n",
    "        velocity=25,\n",
    "        alpha=alpha\n",
    "    ),\n",
    "    align_trailing_vortices_with_wind=False,\n",
    ")\n",
    "\n",
    "aero = vlm.run()\n",
    "\n",
    "L_over_D = aero[\"CL\"] / aero[\"CD\"]\n",
    "\n",
    "opti.minimize(-L_over_D)\n",
    "\n",
    "sol = opti.solve()"
   ],
   "metadata": {
    "collapsed": false
   }
  },
  {
   "cell_type": "code",
   "execution_count": null,
   "outputs": [],
   "source": [
    "# NBVAL_SKIP\n",
    "\n",
    "best_alpha = sol.value(alpha)\n",
    "print(f\"Alpha for max L/D: {best_alpha:.3f} deg\")"
   ],
   "metadata": {
    "collapsed": false
   }
  },
  {
   "cell_type": "markdown",
   "source": [
    "## Aerodynamic Shape Optimization\n",
    "\n",
    "### Minimum Induced Drag (Elliptical Wing)"
   ],
   "metadata": {
    "collapsed": false
   }
  },
  {
   "cell_type": "markdown",
   "source": [
    "Let's do some aerodynamic shape optimization, using a classic problem:\n",
    "\n",
    "Find the wing shape that minimizes induced drag, with the following assumptions:\n",
    "\n",
    "* A fixed lift\n",
    "* A fixed wing area\n",
    "* A fixed wing span\n",
    "* An untwisted, uncambered, thin, planar wing\n",
    "* Inviscid, incompressible, irrotational, steady flow\n",
    "\n",
    "The answer, as any good introductory aerodynamics textbook will teach, is a wing with an elliptical lift distribution. For an untwisted wing (in small angle approximation), this corresponds to an elliptical chord distribution.\n",
    "\n",
    "Let's pose the problem in AeroSandbox, using the `VortexLatticeMethod` flow solver."
   ],
   "metadata": {
    "collapsed": false
   }
  },
  {
   "cell_type": "code",
   "execution_count": 3,
   "outputs": [],
   "source": [
    "opti = asb.Opti()  # Initialize an optimization environment.\n",
    "\n",
    "N = 16  # Number of chord sections to optimize\n",
    "\n",
    "# The y-locations (i.e. span locations) of each section. Note that the span is fixed.\n",
    "section_y = np.sinspace(0, 1, N, reverse_spacing=True)\n",
    "# Using `sinspace` gives us better resolution near the wing tip."
   ],
   "metadata": {
    "collapsed": false,
    "ExecuteTime": {
     "start_time": "2023-04-22T00:06:11.216305Z",
     "end_time": "2023-04-22T00:06:11.228275Z"
    }
   }
  },
  {
   "cell_type": "markdown",
   "source": [
    "We'll use a simple rectangular wing as our initial guess."
   ],
   "metadata": {
    "collapsed": false
   }
  },
  {
   "cell_type": "code",
   "execution_count": 4,
   "outputs": [
    {
     "name": "stderr",
     "output_type": "stream",
     "text": [
      "C:\\Users\\yashi\\AppData\\Local\\Temp\\ipykernel_20444\\4185071868.py:6: UserWarning: An airfoil is not specified for WingXSec. Defaulting to NACA 0012.\n",
      "  asb.WingXSec(\n"
     ]
    },
    {
     "data": {
      "text/plain": "[MX(fabs(opti0_lam_g_1)), MX(fabs(opti0_lam_g_2))]"
     },
     "execution_count": 4,
     "metadata": {},
     "output_type": "execute_result"
    }
   ],
   "source": [
    "chords = opti.variable(init_guess=np.ones(N)) # All chords initially guessed as \"1\".\n",
    "\n",
    "wing = asb.Wing(\n",
    "    symmetric=True,\n",
    "    xsecs=[\n",
    "        asb.WingXSec(\n",
    "            xyz_le=[\n",
    "                -0.25 * chords[i], # This keeps the quarter-chord-line straight.\n",
    "                section_y[i], # Our (known) span locations for each section.\n",
    "                0\n",
    "            ],\n",
    "            chord=chords[i],\n",
    "        )\n",
    "        for i in range(N)\n",
    "    ]\n",
    ")\n",
    "\n",
    "airplane = asb.Airplane( # Make an airplane object containing only this wing.\n",
    "    wings=[\n",
    "        wing\n",
    "    ]\n",
    ")\n",
    "\n",
    "opti.subject_to([  # Let's add some sensible constraints.\n",
    "    chords > 0,  # Chords should stay positive\n",
    "    wing.area() == 0.25,  # We want some fixed wing area\n",
    "])"
   ],
   "metadata": {
    "collapsed": false,
    "ExecuteTime": {
     "start_time": "2023-04-22T00:06:12.766829Z",
     "end_time": "2023-04-22T00:06:13.071402Z"
    }
   }
  },
  {
   "cell_type": "markdown",
   "source": [
    "Next, we'll add a constraint that requires the chord distribution to be monotonically decreasing, which is something we know from intuition. We can skip this constraint, but if we do, we need to have more than 1 VLM spanwise section per wing section in order to stabilize the solve (the optimization problem is less-well-posed otherwise, and hence can more easily \"fall\" into local minima)."
   ],
   "metadata": {
    "collapsed": false
   }
  },
  {
   "cell_type": "code",
   "execution_count": 5,
   "outputs": [
    {
     "data": {
      "text/plain": "MX(fabs(opti0_lam_g_3))"
     },
     "execution_count": 5,
     "metadata": {},
     "output_type": "execute_result"
    }
   ],
   "source": [
    "opti.subject_to(\n",
    "    np.diff(chords) <= 0 # The change in chord from one section to the next should be negative.\n",
    ")"
   ],
   "metadata": {
    "collapsed": false,
    "ExecuteTime": {
     "start_time": "2023-04-22T00:06:14.664463Z",
     "end_time": "2023-04-22T00:06:14.713469Z"
    }
   }
  },
  {
   "cell_type": "markdown",
   "source": [
    "We don't know the right angle of attack to get the desired lift coefficient a priori, so we'll make that an optimization variable too. Note the easy composability of aerodynamic shape optimization and operating point optimization.\n",
    "\n",
    "Then, we set up and run the VLM solve."
   ],
   "metadata": {
    "collapsed": false
   }
  },
  {
   "cell_type": "code",
   "execution_count": 6,
   "outputs": [
    {
     "name": "stdout",
     "output_type": "stream",
     "text": [
      "Meshing...\n"
     ]
    },
    {
     "ename": "TypeError",
     "evalue": "object of type 'MX' has no len()",
     "output_type": "error",
     "traceback": [
      "\u001B[1;31m---------------------------------------------------------------------------\u001B[0m",
      "\u001B[1;31mTypeError\u001B[0m                                 Traceback (most recent call last)",
      "Cell \u001B[1;32mIn[6], line 14\u001B[0m\n\u001B[0;32m      3\u001B[0m op_point \u001B[38;5;241m=\u001B[39m asb\u001B[38;5;241m.\u001B[39mOperatingPoint(\n\u001B[0;32m      4\u001B[0m     velocity\u001B[38;5;241m=\u001B[39m\u001B[38;5;241m1\u001B[39m, \u001B[38;5;66;03m# Some fixed velocity; doesn't matter since we're working nondimensionally.\u001B[39;00m\n\u001B[0;32m      5\u001B[0m     alpha\u001B[38;5;241m=\u001B[39malpha\n\u001B[0;32m      6\u001B[0m )\n\u001B[0;32m      8\u001B[0m vlm \u001B[38;5;241m=\u001B[39m asb\u001B[38;5;241m.\u001B[39mNlLiftingLine(\n\u001B[0;32m      9\u001B[0m     airplane\u001B[38;5;241m=\u001B[39mairplane,\n\u001B[0;32m     10\u001B[0m     op_point\u001B[38;5;241m=\u001B[39mop_point,\n\u001B[0;32m     11\u001B[0m     spanwise_resolution\u001B[38;5;241m=\u001B[39m\u001B[38;5;241m4\u001B[39m,\n\u001B[0;32m     12\u001B[0m )\n\u001B[1;32m---> 14\u001B[0m aero \u001B[38;5;241m=\u001B[39m \u001B[43mvlm\u001B[49m\u001B[38;5;241;43m.\u001B[39;49m\u001B[43mrun\u001B[49m\u001B[43m(\u001B[49m\u001B[43m)\u001B[49m\n",
      "File \u001B[1;32m~\\OneDrive - Politecnico di Milano\\AeroSandbox\\aerosandbox\\aerodynamics\\aero_3D\\NL_lifting_line.py:101\u001B[0m, in \u001B[0;36mNlLiftingLine.run\u001B[1;34m(self)\u001B[0m\n\u001B[0;32m    100\u001B[0m \u001B[38;5;28;01mdef\u001B[39;00m \u001B[38;5;21mrun\u001B[39m(\u001B[38;5;28mself\u001B[39m) \u001B[38;5;241m-\u001B[39m\u001B[38;5;241m>\u001B[39m Dict[\u001B[38;5;28mstr\u001B[39m, Any]:\n\u001B[1;32m--> 101\u001B[0m     \u001B[38;5;28;43mself\u001B[39;49m\u001B[38;5;241;43m.\u001B[39;49m\u001B[43msetup_mesh\u001B[49m\u001B[43m(\u001B[49m\u001B[43m)\u001B[49m\n\u001B[0;32m    102\u001B[0m     \u001B[38;5;28mself\u001B[39m\u001B[38;5;241m.\u001B[39mcalculate_vortex_strengths()\n\u001B[0;32m    103\u001B[0m     \u001B[38;5;28mself\u001B[39m\u001B[38;5;241m.\u001B[39m_calculate_forces()\n",
      "File \u001B[1;32m~\\OneDrive - Politecnico di Milano\\AeroSandbox\\aerosandbox\\aerodynamics\\aero_3D\\NL_lifting_line.py:251\u001B[0m, in \u001B[0;36mNlLiftingLine.setup_mesh\u001B[1;34m(self)\u001B[0m\n\u001B[0;32m    249\u001B[0m normal_directions \u001B[38;5;241m=\u001B[39m cross \u001B[38;5;241m/\u001B[39m tall(cross_norm)\n\u001B[0;32m    250\u001B[0m areas \u001B[38;5;241m=\u001B[39m cross_norm \u001B[38;5;241m/\u001B[39m \u001B[38;5;241m2\u001B[39m\n\u001B[1;32m--> 251\u001B[0m \u001B[38;5;28mself\u001B[39m\u001B[38;5;241m.\u001B[39mn_panels \u001B[38;5;241m=\u001B[39m \u001B[38;5;28;43mlen\u001B[39;49m\u001B[43m(\u001B[49m\u001B[43mareas\u001B[49m\u001B[43m)\u001B[49m\n\u001B[0;32m    253\u001B[0m \u001B[38;5;66;03m# Compute the location of points of interest on each panel\u001B[39;00m\n\u001B[0;32m    254\u001B[0m left_vortex_vertices \u001B[38;5;241m=\u001B[39m \u001B[38;5;241m0.75\u001B[39m \u001B[38;5;241m*\u001B[39m front_left_vertices \u001B[38;5;241m+\u001B[39m \u001B[38;5;241m0.25\u001B[39m \u001B[38;5;241m*\u001B[39m back_left_vertices\n",
      "\u001B[1;31mTypeError\u001B[0m: object of type 'MX' has no len()"
     ]
    }
   ],
   "source": [
    "alpha = opti.variable(init_guess=5, lower_bound=0, upper_bound=30)\n",
    "\n",
    "op_point = asb.OperatingPoint(\n",
    "    velocity=1, # Some fixed velocity; doesn't matter since we're working nondimensionally.\n",
    "    alpha=alpha\n",
    ")\n",
    "\n",
    "vlm = asb.NlLiftingLine(\n",
    "    airplane=airplane,\n",
    "    op_point=op_point,\n",
    "    spanwise_resolution=4,\n",
    ")\n",
    "\n",
    "aero = vlm.run()"
   ],
   "metadata": {
    "collapsed": false
   }
  },
  {
   "cell_type": "markdown",
   "source": [
    "Finally, we add our lift constraint, set the optimization objective to minimize drag, and solve."
   ],
   "metadata": {
    "collapsed": false
   }
  },
  {
   "cell_type": "code",
   "execution_count": null,
   "outputs": [],
   "source": [
    "# NBVAL_SKIP\n",
    "# (This tells our unit tests to skip this cell, as it's a bit wasteful to run on every commit.)\n",
    "\n",
    "opti.subject_to(\n",
    "    aero[\"CL\"] == 1\n",
    ")\n",
    "\n",
    "opti.minimize(aero[\"CD\"])\n",
    "\n",
    "sol = opti.solve()"
   ],
   "metadata": {
    "collapsed": false
   }
  },
  {
   "cell_type": "markdown",
   "source": [
    "Let's visualize our solution.\n",
    "\n",
    "The following command does an in-place substitution of our VLM object, recursively evaluating all its fields from abstract values to concrete ones (i.e., NumPy arrays) at our solution, using our `sol` object."
   ],
   "metadata": {
    "collapsed": false
   }
  },
  {
   "cell_type": "code",
   "execution_count": null,
   "outputs": [],
   "source": [
    "# NBVAL_SKIP\n",
    "\n",
    "vlm.substitute_solution(sol)"
   ],
   "metadata": {
    "collapsed": false
   }
  },
  {
   "cell_type": "code",
   "execution_count": null,
   "outputs": [],
   "source": [
    "# NBVAL_SKIP\n",
    "\n",
    "vlm.draw(show_kwargs=dict(jupyter_backend=\"static\"))"
   ],
   "metadata": {
    "collapsed": false
   }
  },
  {
   "cell_type": "markdown",
   "source": [
    "Looking at our optimized solution, we can compare it to our known analytic solution (an elliptical lift distribution)."
   ],
   "metadata": {
    "collapsed": false
   }
  },
  {
   "cell_type": "code",
   "execution_count": null,
   "outputs": [],
   "source": [
    "# NBVAL_SKIP\n",
    "\n",
    "import matplotlib.pyplot as plt\n",
    "import aerosandbox.tools.pretty_plots as p\n",
    "\n",
    "fig, ax = plt.subplots()\n",
    "plt.plot(\n",
    "    section_y,\n",
    "    sol.value(chords),\n",
    "    \".-\",\n",
    "    label=\"AeroSandbox VLM Result\",\n",
    "    zorder=4,\n",
    ")\n",
    "y_plot = np.linspace(0, 1, 500)\n",
    "plt.plot(\n",
    "    y_plot,\n",
    "    (1 - y_plot ** 2) ** 0.5 * 4 / np.pi * 0.125,\n",
    "    label=\"Elliptic Distribution\",\n",
    ")\n",
    "p.show_plot(\n",
    "    \"AeroSandbox Drag Optimization using VortexLatticeMethod\",\n",
    "    \"Span [m]\",\n",
    "    \"Chord [m]\"\n",
    ")\n"
   ],
   "metadata": {
    "collapsed": false
   }
  },
  {
   "cell_type": "markdown",
   "source": [
    "Slight differences arise due to numerical discretization, but it's convergent to the right answer. We can also check the objective function (the induced drag at the minimum):"
   ],
   "metadata": {
    "collapsed": false
   }
  },
  {
   "cell_type": "code",
   "execution_count": null,
   "outputs": [],
   "source": [
    "# NBVAL_SKIP\n",
    "\n",
    "AR = 2 ** 2 / 0.25\n",
    "CL = 1\n",
    "\n",
    "CDi_theory = CL ** 2 / (np.pi * AR)\n",
    "CDi_computed = sol.value(aero[\"CD\"])\n",
    "print(f\"CDi (theory)   : {CDi_theory:.4f}\")\n",
    "print(f\"CDi (computed) : {CDi_computed:.4f}\")"
   ],
   "metadata": {
    "collapsed": false
   }
  },
  {
   "cell_type": "markdown",
   "source": [
    "Essentially matching theory. Both theory and computation are expected to have slight errors compared to the exact potential flow solution:\n",
    "\n",
    "* The theory side has small errors due to small-angle approximations and simplification of 3D chordwise effects near the tips\n",
    "* The computational side has small errors due to numerical discretization.\n",
    "\n",
    "(Both methods neglect thickness effects, too.)"
   ],
   "metadata": {
    "collapsed": false
   }
  }
 ],
 "metadata": {
  "kernelspec": {
   "display_name": "Python 3",
   "language": "python",
   "name": "python3"
  },
  "language_info": {
   "codemirror_mode": {
    "name": "ipython",
    "version": 2
   },
   "file_extension": ".py",
   "mimetype": "text/x-python",
   "name": "python",
   "nbconvert_exporter": "python",
   "pygments_lexer": "ipython2",
   "version": "2.7.6"
  }
 },
 "nbformat": 4,
 "nbformat_minor": 0
}
